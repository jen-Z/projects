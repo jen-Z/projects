{
 "cells": [
  {
   "cell_type": "markdown",
   "id": "dc8eff98",
   "metadata": {},
   "source": [
    "# Sentiment Analysis of News Headlines\n",
    "Download a public dataset of news headlines, compute their sentiment (positive/neutral/negative) using VADER, visualize the distribution, and inspect examples."
   ]
  },
  {
   "cell_type": "code",
   "execution_count": 9,
   "id": "6598a6b8",
   "metadata": {
    "scrolled": true
   },
   "outputs": [
    {
     "name": "stdout",
     "output_type": "stream",
     "text": [
      "Requirement already satisfied: pandas in c:\\users\\zhm50\\anaconda3\\lib\\site-packages (1.4.2)\n",
      "Requirement already satisfied: matplotlib in c:\\users\\zhm50\\anaconda3\\lib\\site-packages (3.5.1)\n",
      "Requirement already satisfied: nltk in c:\\users\\zhm50\\anaconda3\\lib\\site-packages (3.7)\n",
      "Requirement already satisfied: vaderSentiment in c:\\users\\zhm50\\anaconda3\\lib\\site-packages (3.3.2)\n",
      "Requirement already satisfied: requests in c:\\users\\zhm50\\anaconda3\\lib\\site-packages (2.27.1)\n",
      "Requirement already satisfied: tqdm in c:\\users\\zhm50\\anaconda3\\lib\\site-packages (4.64.0)\n",
      "Requirement already satisfied: pytz>=2020.1 in c:\\users\\zhm50\\anaconda3\\lib\\site-packages (from pandas) (2021.3)\n",
      "Requirement already satisfied: python-dateutil>=2.8.1 in c:\\users\\zhm50\\anaconda3\\lib\\site-packages (from pandas) (2.8.2)\n",
      "Requirement already satisfied: numpy>=1.18.5 in c:\\users\\zhm50\\anaconda3\\lib\\site-packages (from pandas) (1.21.5)\n",
      "Requirement already satisfied: pillow>=6.2.0 in c:\\users\\zhm50\\anaconda3\\lib\\site-packages (from matplotlib) (9.0.1)\n",
      "Requirement already satisfied: fonttools>=4.22.0 in c:\\users\\zhm50\\anaconda3\\lib\\site-packages (from matplotlib) (4.25.0)\n",
      "Requirement already satisfied: kiwisolver>=1.0.1 in c:\\users\\zhm50\\anaconda3\\lib\\site-packages (from matplotlib) (1.3.2)\n",
      "Requirement already satisfied: pyparsing>=2.2.1 in c:\\users\\zhm50\\anaconda3\\lib\\site-packages (from matplotlib) (3.0.4)\n",
      "Requirement already satisfied: packaging>=20.0 in c:\\users\\zhm50\\anaconda3\\lib\\site-packages (from matplotlib) (23.2)\n",
      "Requirement already satisfied: cycler>=0.10 in c:\\users\\zhm50\\anaconda3\\lib\\site-packages (from matplotlib) (0.11.0)\n",
      "Requirement already satisfied: joblib in c:\\users\\zhm50\\anaconda3\\lib\\site-packages (from nltk) (1.1.0)\n",
      "Requirement already satisfied: click in c:\\users\\zhm50\\anaconda3\\lib\\site-packages (from nltk) (8.0.4)\n",
      "Requirement already satisfied: regex>=2021.8.3 in c:\\users\\zhm50\\anaconda3\\lib\\site-packages (from nltk) (2022.3.15)\n",
      "Requirement already satisfied: idna<4,>=2.5 in c:\\users\\zhm50\\anaconda3\\lib\\site-packages (from requests) (3.3)\n",
      "Requirement already satisfied: certifi>=2017.4.17 in c:\\users\\zhm50\\anaconda3\\lib\\site-packages (from requests) (2021.10.8)\n",
      "Requirement already satisfied: urllib3<1.27,>=1.21.1 in c:\\users\\zhm50\\anaconda3\\lib\\site-packages (from requests) (1.26.9)\n",
      "Requirement already satisfied: charset-normalizer~=2.0.0 in c:\\users\\zhm50\\anaconda3\\lib\\site-packages (from requests) (2.0.4)\n",
      "Requirement already satisfied: colorama in c:\\users\\zhm50\\anaconda3\\lib\\site-packages (from tqdm) (0.4.4)\n",
      "Requirement already satisfied: six>=1.5 in c:\\users\\zhm50\\anaconda3\\lib\\site-packages (from python-dateutil>=2.8.1->pandas) (1.16.0)\n"
     ]
    }
   ],
   "source": [
    "#!pip install pandas matplotlib nltk vaderSentiment requests tqdm\n"
   ]
  },
  {
   "cell_type": "code",
   "execution_count": 39,
   "id": "03b063cd",
   "metadata": {},
   "outputs": [],
   "source": [
    "import pandas as pd\n",
    "import matplotlib.pyplot as plt\n",
    "import json, requests, io, os\n",
    "from vaderSentiment.vaderSentiment import SentimentIntensityAnalyzer as SIA\n",
    "from tqdm import tqdm\n",
    "\n",
    "#nltk.download('vader_lexicon', quiet=True)\n",
    "analyzer = SIA()"
   ]
  },
  {
   "cell_type": "code",
   "execution_count": 40,
   "id": "1e54c5f6",
   "metadata": {},
   "outputs": [
    {
     "name": "stdout",
     "output_type": "stream",
     "text": [
      "28619\n"
     ]
    },
    {
     "data": {
      "text/html": [
       "<div>\n",
       "<style scoped>\n",
       "    .dataframe tbody tr th:only-of-type {\n",
       "        vertical-align: middle;\n",
       "    }\n",
       "\n",
       "    .dataframe tbody tr th {\n",
       "        vertical-align: top;\n",
       "    }\n",
       "\n",
       "    .dataframe thead th {\n",
       "        text-align: right;\n",
       "    }\n",
       "</style>\n",
       "<table border=\"1\" class=\"dataframe\">\n",
       "  <thead>\n",
       "    <tr style=\"text-align: right;\">\n",
       "      <th></th>\n",
       "      <th>text</th>\n",
       "    </tr>\n",
       "  </thead>\n",
       "  <tbody>\n",
       "    <tr>\n",
       "      <th>0</th>\n",
       "      <td>thirtysomething scientists unveil doomsday clo...</td>\n",
       "    </tr>\n",
       "    <tr>\n",
       "      <th>1</th>\n",
       "      <td>dem rep. totally nails why congress is falling...</td>\n",
       "    </tr>\n",
       "    <tr>\n",
       "      <th>2</th>\n",
       "      <td>eat your veggies: 9 deliciously different recipes</td>\n",
       "    </tr>\n",
       "    <tr>\n",
       "      <th>3</th>\n",
       "      <td>inclement weather prevents liar from getting t...</td>\n",
       "    </tr>\n",
       "    <tr>\n",
       "      <th>4</th>\n",
       "      <td>mother comes pretty close to using word 'strea...</td>\n",
       "    </tr>\n",
       "  </tbody>\n",
       "</table>\n",
       "</div>"
      ],
      "text/plain": [
       "                                                text\n",
       "0  thirtysomething scientists unveil doomsday clo...\n",
       "1  dem rep. totally nails why congress is falling...\n",
       "2  eat your veggies: 9 deliciously different recipes\n",
       "3  inclement weather prevents liar from getting t...\n",
       "4  mother comes pretty close to using word 'strea..."
      ]
     },
     "execution_count": 40,
     "metadata": {},
     "output_type": "execute_result"
    }
   ],
   "source": [
    "DATA_URL = ('https://raw.githubusercontent.com/rishabhmisra/News-Headlines-Dataset-For-Sarcasm-Detection/'\n",
    "            'master/Sarcasm_Headlines_Dataset.json')\n",
    "\n",
    "response = requests.get(DATA_URL)\n",
    "rows = [json.loads(line) for line in response.text.splitlines() if line.strip()]\n",
    "\n",
    "df = pd.DataFrame(rows)\n",
    "df = df.rename(columns={'headline': 'text'})[['text']]#保留文本并重命名\n",
    "\n",
    "print(len(df))\n",
    "df.head()\n"
   ]
  },
  {
   "cell_type": "code",
   "execution_count": 35,
   "id": "162c231d",
   "metadata": {},
   "outputs": [
    {
     "name": "stderr",
     "output_type": "stream",
     "text": [
      "Scoring: 100%|█████████████████████████████████████████████████████████████████| 28619/28619 [00:05<00:00, 5030.44it/s]\n"
     ]
    },
    {
     "data": {
      "text/html": [
       "<div>\n",
       "<style scoped>\n",
       "    .dataframe tbody tr th:only-of-type {\n",
       "        vertical-align: middle;\n",
       "    }\n",
       "\n",
       "    .dataframe tbody tr th {\n",
       "        vertical-align: top;\n",
       "    }\n",
       "\n",
       "    .dataframe thead th {\n",
       "        text-align: right;\n",
       "    }\n",
       "</style>\n",
       "<table border=\"1\" class=\"dataframe\">\n",
       "  <thead>\n",
       "    <tr style=\"text-align: right;\">\n",
       "      <th></th>\n",
       "      <th>text</th>\n",
       "      <th>sentiment</th>\n",
       "    </tr>\n",
       "  </thead>\n",
       "  <tbody>\n",
       "    <tr>\n",
       "      <th>0</th>\n",
       "      <td>thirtysomething scientists unveil doomsday clo...</td>\n",
       "      <td>negative</td>\n",
       "    </tr>\n",
       "    <tr>\n",
       "      <th>1</th>\n",
       "      <td>dem rep. totally nails why congress is falling...</td>\n",
       "      <td>negative</td>\n",
       "    </tr>\n",
       "    <tr>\n",
       "      <th>2</th>\n",
       "      <td>eat your veggies: 9 deliciously different recipes</td>\n",
       "      <td>positive</td>\n",
       "    </tr>\n",
       "    <tr>\n",
       "      <th>3</th>\n",
       "      <td>inclement weather prevents liar from getting t...</td>\n",
       "      <td>negative</td>\n",
       "    </tr>\n",
       "    <tr>\n",
       "      <th>4</th>\n",
       "      <td>mother comes pretty close to using word 'strea...</td>\n",
       "      <td>positive</td>\n",
       "    </tr>\n",
       "  </tbody>\n",
       "</table>\n",
       "</div>"
      ],
      "text/plain": [
       "                                                text sentiment\n",
       "0  thirtysomething scientists unveil doomsday clo...  negative\n",
       "1  dem rep. totally nails why congress is falling...  negative\n",
       "2  eat your veggies: 9 deliciously different recipes  positive\n",
       "3  inclement weather prevents liar from getting t...  negative\n",
       "4  mother comes pretty close to using word 'strea...  positive"
      ]
     },
     "execution_count": 35,
     "metadata": {},
     "output_type": "execute_result"
    }
   ],
   "source": [
    "def classify_sentiment(text):\n",
    "    score = analyzer.polarity_scores(text)['compound']\n",
    "    if score >= 0.05:\n",
    "        return 'positive'\n",
    "    elif score <= -0.05:\n",
    "        return 'negative'\n",
    "    return 'neutral'\n",
    "\n",
    "tqdm.pandas(desc='Scoring')#进度可视化\n",
    "df['sentiment'] = df['text'].progress_apply(classify_sentiment)\n",
    "\n",
    "df.head()"
   ]
  },
  {
   "cell_type": "code",
   "execution_count": 36,
   "id": "9a3051e6",
   "metadata": {},
   "outputs": [
    {
     "data": {
      "image/png": "[encoded data removed]",
      "text/plain": [
       "<Figure size 432x288 with 1 Axes>"
      ]
     },
     "metadata": {
      "needs_background": "light"
     },
     "output_type": "display_data"
    }
   ],
   "source": [
    "counts = df['sentiment'].value_counts().reindex(['positive','neutral','negative']).fillna(0)\n",
    "\n",
    "plt.figure(figsize=(6,4))\n",
    "\n",
    "counts.plot(kind='bar')#柱状图\n",
    "plt.title('Sentiment distribution of news headlines')\n",
    "plt.xlabel('Sentiment')\n",
    "plt.ylabel('Number of headlines')\n",
    "plt.show()"
   ]
  },
  {
   "cell_type": "code",
   "execution_count": 7,
   "id": "d86866a2",
   "metadata": {},
   "outputs": [
    {
     "name": "stdout",
     "output_type": "stream",
     "text": [
      "\n",
      "Sample positive headlines:\n"
     ]
    },
    {
     "data": {
      "text/plain": [
       "22749    wednesday's morning email: what the georgia sp...\n",
       "10432    restaurant teaches former inmates to cook, hel...\n",
       "7036     this could be 'one of the warmest christmas da...\n",
       "19571        teen newsweek reports north korea is the bomb\n",
       "21482    don't sleep on target's chic new modern home c...\n",
       "Name: text, dtype: object"
      ]
     },
     "metadata": {},
     "output_type": "display_data"
    },
    {
     "name": "stdout",
     "output_type": "stream",
     "text": [
      "\n",
      "Sample negative headlines:\n"
     ]
    },
    {
     "data": {
      "text/plain": [
       "22889      paris terror harms france, islam, and the world\n",
       "22021                   puerto rico is a man-made disaster\n",
       "12019    coworker retreats to remote corner of office t...\n",
       "27338    mick mulvaney, supporter of 2013 government sh...\n",
       "798                    nation's moms demand christmas list\n",
       "Name: text, dtype: object"
      ]
     },
     "metadata": {},
     "output_type": "display_data"
    },
    {
     "name": "stdout",
     "output_type": "stream",
     "text": [
      "\n",
      "Sample neutral headlines:\n"
     ]
    },
    {
     "data": {
      "text/plain": [
       "27714    fbi agent still tasked with following noam cho...\n",
       "19614    english professor suddenly realizes students w...\n",
       "13371    area man a walking encyclopedia of everything ...\n",
       "5448     report: really old tenant probably pays much c...\n",
       "6980     rhode island votes to move 2008 primary to tom...\n",
       "Name: text, dtype: object"
      ]
     },
     "metadata": {},
     "output_type": "display_data"
    }
   ],
   "source": [
    "#示例\n",
    "for label in ['positive','negative','neutral']:\n",
    "    print(f'\\nSample {label} headlines:')\n",
    "    display(df[df['sentiment']==label].sample(5, random_state=42)['text'])"
   ]
  },
  {
   "cell_type": "code",
   "execution_count": null,
   "id": "f29210b9",
   "metadata": {},
   "outputs": [],
   "source": []
  }
 ],
 "metadata": {
  "kernelspec": {
   "display_name": "Python 3 (ipykernel)",
   "language": "python",
   "name": "python3"
  },
  "language_info": {
   "codemirror_mode": {
    "name": "ipython",
    "version": 3
   },
   "file_extension": ".py",
   "mimetype": "text/x-python",
   "name": "python",
   "nbconvert_exporter": "python",
   "pygments_lexer": "ipython3",
   "version": "3.9.12"
  }
 },
 "nbformat": 4,
 "nbformat_minor": 5
}
